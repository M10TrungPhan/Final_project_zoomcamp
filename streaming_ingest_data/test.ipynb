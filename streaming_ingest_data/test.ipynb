{
 "cells": [
  {
   "cell_type": "code",
   "execution_count": 1,
   "metadata": {},
   "outputs": [],
   "source": [
    "from  confluent_kafka import Producer\n",
    "from config import *\n",
    "import csv  \n",
    "import time\n",
    "import json  "
   ]
  },
  {
   "cell_type": "code",
   "execution_count": 2,
   "metadata": {},
   "outputs": [
    {
     "data": {
      "text/plain": [
       "<module 'config' from 'e:\\\\TrungPhanADVN\\\\Code\\\\Project_DE\\\\Final_project_zoomcamp\\\\streaming_ingest_data\\\\config.py'>"
      ]
     },
     "execution_count": 2,
     "metadata": {},
     "output_type": "execute_result"
    }
   ],
   "source": [
    "import sys\n",
    "import importlib\n",
    "importlib.reload(sys.modules['config'])"
   ]
  },
  {
   "cell_type": "code",
   "execution_count": 13,
   "metadata": {},
   "outputs": [],
   "source": [
    "def read_csv(file_path):\n",
    "    count = 0\n",
    "    with open(file_path, 'r', encoding='utf-8') as file:\n",
    "        reader = csv.DictReader(file)\n",
    "        for row in reader:\n",
    "            yield row\n",
    "            "
   ]
  },
  {
   "cell_type": "code",
   "execution_count": 9,
   "metadata": {},
   "outputs": [
    {
     "data": {
      "text/plain": [
       "<generator object read_csv at 0x000001AC49E33350>"
      ]
     },
     "execution_count": 9,
     "metadata": {},
     "output_type": "execute_result"
    }
   ],
   "source": [
    "read_csv('../data/202201-divvy-tripdata.csv')"
   ]
  },
  {
   "cell_type": "code",
   "execution_count": 14,
   "metadata": {},
   "outputs": [],
   "source": [
    "def delivery_report(err, msg):\n",
    "    if err is not None:\n",
    "        print(f'Message delivery failed: {err}')\n",
    "    else:\n",
    "        print(f'Message delivered to topic: {msg.topic()}, partition: {msg.partition()}, offset: {msg.offset()}')"
   ]
  },
  {
   "cell_type": "code",
   "execution_count": 15,
   "metadata": {},
   "outputs": [],
   "source": [
    "def produce_data(bootstrap_servers, topic, file_path):\n",
    "    producer = Producer({'bootstrap.servers':bootstrap_servers})\n",
    "    try:\n",
    "        for row in read_csv(file_path):\n",
    "            json_row = json.dumps(row)\n",
    "            producer.produce(topic, value=json_row, callback=delivery_report)\n",
    "            producer.flush()\n",
    "            break\n",
    "    except KeyboardInterrupt:\n",
    "        pass \n",
    "    finally:\n",
    "        producer.flush()\n",
    "    \n"
   ]
  },
  {
   "cell_type": "code",
   "execution_count": 17,
   "metadata": {},
   "outputs": [
    {
     "name": "stdout",
     "output_type": "stream",
     "text": [
      "Message delivered to topic: cycle_data, partition: 0, offset: 1302\n"
     ]
    }
   ],
   "source": [
    "produce_data(BOOTSTRAP_SERVERS,TOPIC, '../data/202201-divvy-tripdata.csv')"
   ]
  },
  {
   "cell_type": "code",
   "execution_count": 61,
   "metadata": {},
   "outputs": [
    {
     "data": {
      "text/plain": [
       "'localhost:9092'"
      ]
     },
     "execution_count": 61,
     "metadata": {},
     "output_type": "execute_result"
    }
   ],
   "source": [
    "BOOTSTRAP_SERVERS"
   ]
  },
  {
   "cell_type": "code",
   "execution_count": 44,
   "metadata": {},
   "outputs": [],
   "source": [
    "from confluent_kafka import Consumer, KafkaError"
   ]
  },
  {
   "cell_type": "code",
   "execution_count": 40,
   "metadata": {},
   "outputs": [
    {
     "data": {
      "text/plain": [
       "<module 'config' from 'e:\\\\TrungPhanADVN\\\\Code\\\\Project_DE\\\\Final_project_zoomcamp\\\\streaming_ingest_data\\\\config.py'>"
      ]
     },
     "execution_count": 40,
     "metadata": {},
     "output_type": "execute_result"
    }
   ],
   "source": [
    "import sys\n",
    "import importlib\n",
    "import sys, os\n",
    "sys.path.append(os.path.abspath(\"./\"))\n",
    "importlib.reload(sys.modules['config'])"
   ]
  },
  {
   "cell_type": "code",
   "execution_count": 42,
   "metadata": {},
   "outputs": [],
   "source": [
    "conf ={'bootstrap.servers':BOOTSTRAP_SERVERS,\n",
    "       'group.id': 'cycle_data',\n",
    "       'auto.offset.reset': 'earliest'\n",
    "       }"
   ]
  },
  {
   "cell_type": "code",
   "execution_count": 43,
   "metadata": {},
   "outputs": [],
   "source": [
    "consumer = Consumer(conf)"
   ]
  },
  {
   "cell_type": "code",
   "execution_count": 51,
   "metadata": {},
   "outputs": [],
   "source": [
    "def consume_data(bootstrap_servers, topic):\n",
    "    conf = {'bootstrap.servers': bootstrap_servers, 'group.id': 'ashraf-supply-chain', 'auto.offset.reset': 'earliest'}\n",
    "    consumer = Consumer(conf)\n",
    "    consumer.subscribe([topic])\n",
    "\n",
    "    try:\n",
    "        while True:\n",
    "            msg = consumer.poll(timeout=1.0)\n",
    "            if msg is None:\n",
    "                continue\n",
    "            if msg.error():\n",
    "                if msg.error().code() == KafkaError._PARTITION_EOF:\n",
    "                    # End of partition\n",
    "                    continue\n",
    "                else:\n",
    "                    print(msg.error())\n",
    "                    break\n",
    "            else:\n",
    "                # Message value and key are raw bytes -- decode if necessary!\n",
    "                # e.g., convert to utf-8\n",
    "                print('Received message: {}'.format(msg.value().decode('utf-8')))\n",
    "                print('Received message: {}'.format(msg.value()))\n",
    "                print('Received message: {}'.format(json.loads(msg.value())))\n",
    "\n",
    "            break\n",
    "    except KeyboardInterrupt:\n",
    "        pass\n",
    "\n",
    "    finally:\n",
    "        consumer.close()"
   ]
  },
  {
   "cell_type": "code",
   "execution_count": 53,
   "metadata": {},
   "outputs": [
    {
     "name": "stdout",
     "output_type": "stream",
     "text": [
      "Received message: {\"ride_id\": \"C2F7DD78E82EC875\", \"rideable_type\": \"electric_bike\", \"started_at\": \"2022-01-13 11:59:47\", \"ended_at\": \"2022-01-13 12:02:44\", \"start_station_name\": \"Glenwood Ave & Touhy Ave\", \"start_station_id\": \"525\", \"end_station_name\": \"Clark St & Touhy Ave\", \"end_station_id\": \"RP-007\", \"start_lat\": \"42.0128005\", \"start_lng\": \"-87.665906\", \"end_lat\": \"42.01256011541\", \"end_lng\": \"-87.6743671152\", \"member_casual\": \"casual\"}\n",
      "Received message: b'{\"ride_id\": \"C2F7DD78E82EC875\", \"rideable_type\": \"electric_bike\", \"started_at\": \"2022-01-13 11:59:47\", \"ended_at\": \"2022-01-13 12:02:44\", \"start_station_name\": \"Glenwood Ave & Touhy Ave\", \"start_station_id\": \"525\", \"end_station_name\": \"Clark St & Touhy Ave\", \"end_station_id\": \"RP-007\", \"start_lat\": \"42.0128005\", \"start_lng\": \"-87.665906\", \"end_lat\": \"42.01256011541\", \"end_lng\": \"-87.6743671152\", \"member_casual\": \"casual\"}'\n",
      "Received message: {'ride_id': 'C2F7DD78E82EC875', 'rideable_type': 'electric_bike', 'started_at': '2022-01-13 11:59:47', 'ended_at': '2022-01-13 12:02:44', 'start_station_name': 'Glenwood Ave & Touhy Ave', 'start_station_id': '525', 'end_station_name': 'Clark St & Touhy Ave', 'end_station_id': 'RP-007', 'start_lat': '42.0128005', 'start_lng': '-87.665906', 'end_lat': '42.01256011541', 'end_lng': '-87.6743671152', 'member_casual': 'casual'}\n"
     ]
    }
   ],
   "source": [
    "consume_data(BOOTSTRAP_SERVERS, TOPIC)"
   ]
  },
  {
   "cell_type": "code",
   "execution_count": 18,
   "metadata": {},
   "outputs": [
    {
     "data": {
      "text/plain": [
       "DeleteTopicsResponse_v3(throttle_time_ms=0, topic_error_codes=[(topic='cycle_data', error_code=0), (topic='cycle_data_2', error_code=0)])"
      ]
     },
     "execution_count": 18,
     "metadata": {},
     "output_type": "execute_result"
    }
   ],
   "source": [
    "from kafka import KafkaAdminClient\n",
    "\n",
    "\n",
    "admin_client = KafkaAdminClient(bootstrap_servers=[BOOTSTRAP_SERVERS])\n",
    "admin_client.delete_topics(topics=[TOPIC, 'cycle_data_2'])"
   ]
  }
 ],
 "metadata": {
  "kernelspec": {
   "display_name": "dev",
   "language": "python",
   "name": "python3"
  },
  "language_info": {
   "codemirror_mode": {
    "name": "ipython",
    "version": 3
   },
   "file_extension": ".py",
   "mimetype": "text/x-python",
   "name": "python",
   "nbconvert_exporter": "python",
   "pygments_lexer": "ipython3",
   "version": "3.8.18"
  }
 },
 "nbformat": 4,
 "nbformat_minor": 2
}
